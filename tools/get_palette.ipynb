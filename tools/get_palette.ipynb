{
 "cells": [
  {
   "cell_type": "code",
   "execution_count": 15,
   "metadata": {},
   "outputs": [],
   "source": [
    "import os\n",
    "import sys\n",
    "sys.path.insert(0, '../')\n",
    "import torch\n",
    "import numpy as np\n",
    "import trimesh\n",
    "from matplotlib import pyplot as plt\n",
    "from scipy.spatial import ConvexHull\n",
    "from einops import rearrange"
   ]
  },
  {
   "cell_type": "code",
   "execution_count": 16,
   "metadata": {},
   "outputs": [
    {
     "data": {
      "application/vnd.jupyter.widget-view+json": {
       "model_id": "a72c41f72c10476191c1fe95482976cc",
       "version_major": 2,
       "version_minor": 0
      },
      "text/plain": [
       "HTML(value='\\n<style>\\n.jupyter-widget-colortag {\\n    height: 50px;\\n}\\n.jupyter-widget-colortag i {\\n    mar…"
      ]
     },
     "execution_count": 16,
     "metadata": {},
     "output_type": "execute_result"
    }
   ],
   "source": [
    "try:\n",
    "    import piplite\n",
    "    await piplite.install(['ipywidgets'])\n",
    "except ImportError:\n",
    "    pass\n",
    "import ipywidgets as widgets\n",
    "\n",
    "widgets.HTML(\"\"\"\n",
    "<style>\n",
    ".jupyter-widget-colortag {\n",
    "    height: 50px;\n",
    "}\n",
    ".jupyter-widget-colortag i {\n",
    "    margin-left: 50px;\n",
    "}\n",
    "</style>\n",
    "\"\"\")"
   ]
  },
  {
   "cell_type": "code",
   "execution_count": 17,
   "metadata": {},
   "outputs": [],
   "source": [
    "from data import dataset_dict\n",
    "from utils.color import sort_palette, rgb2hex, hex2rgb\n",
    "from utils.vis import plot_palette_colors\n",
    "from utils.palette_utils.Additive_mixing_layers_extraction import Hull_Simplification_determined_version"
   ]
  },
  {
   "cell_type": "markdown",
   "metadata": {},
   "source": [
    "## Utils"
   ]
  },
  {
   "cell_type": "code",
   "execution_count": 18,
   "metadata": {},
   "outputs": [],
   "source": [
    "dir_basename = lambda s: os.path.basename(os.path.normpath(s))\n",
    "\n",
    "def save_palette(dir, p, suffix=''):\n",
    "    if not os.path.exists(dir):\n",
    "        os.makedirs(dir)\n",
    "    \n",
    "    path = os.path.join(dir, f'rgb_palette_extract{\"_\" + suffix if suffix else \"\"}.npy')\n",
    "    if os.path.exists(path):\n",
    "        print(f'CANNOT save palette: {path} exists')\n",
    "        return\n",
    "    \n",
    "    np.save(path, p)\n",
    "    print('Save palette to', path)"
   ]
  },
  {
   "cell_type": "markdown",
   "metadata": {},
   "source": [
    "## Load Data"
   ]
  },
  {
   "cell_type": "code",
   "execution_count": 44,
   "metadata": {},
   "outputs": [
    {
     "name": "stdout",
     "output_type": "stream",
     "text": [
      "=============img_list==============\n",
      "[1, 2, 3, 4, 5, 6, 7, 9, 10, 11, 12, 13, 14, 15, 17, 18, 19]\n",
      "1008\n",
      "756\n",
      "tensor([[0.3882, 0.5098, 0.7451],\n",
      "        [0.3843, 0.5098, 0.7451],\n",
      "        [0.3608, 0.4941, 0.7373],\n",
      "        ...,\n",
      "        [0.5216, 0.3686, 0.2118],\n",
      "        [0.4157, 0.2667, 0.1412],\n",
      "        [0.3529, 0.2078, 0.0902]])\n"
     ]
    }
   ],
   "source": [
    "dataset_type = 'llff'\n",
    "datadir = '/root/autodl-tmp/nerf_data/data4_playground'\n",
    "# datadir = '/root/autodl-tmp/nerf_data/fern/'\n",
    "outdir = os.path.join('../data_palette/', dir_basename(datadir))\n",
    "\n",
    "dataset = dataset_dict[dataset_type](datadir, split='train', downsample=4.0 if dataset_type == 'llff' else 1.0, is_stack=False)\n",
    "w, h = dataset.img_wh[0], dataset.img_wh[1]\n",
    "rgbs = dataset.all_rgbs\n",
    "print(w)\n",
    "print(h)\n",
    "print(rgbs)\n",
    "fg = None\n",
    "if dataset.white_bg:\n",
    "    fg = torch.lt(rgbs, 1.).any(dim=-1)\n",
    "    rgbs = rgbs[fg]\n",
    "    print(rgbs)\n",
    "rgbs = rgbs.to(device='cpu', dtype=torch.double).numpy()"
   ]
  },
  {
   "cell_type": "code",
   "execution_count": 45,
   "metadata": {},
   "outputs": [
    {
     "data": {
      "text/plain": [
       "(12954816, 3)"
      ]
     },
     "execution_count": 45,
     "metadata": {},
     "output_type": "execute_result"
    }
   ],
   "source": [
    "rgbs.shape"
   ]
  },
  {
   "cell_type": "markdown",
   "metadata": {},
   "source": [
    "## Create Palette"
   ]
  },
  {
   "cell_type": "code",
   "execution_count": 46,
   "metadata": {},
   "outputs": [],
   "source": [
    "error_thres = 10. / 256.\n",
    "# error_thres = 1. / 500.\n",
    "palette = Hull_Simplification_determined_version(rgbs[:w*h, ...], '', error_thres=error_thres)"
   ]
  },
  {
   "cell_type": "code",
   "execution_count": 47,
   "metadata": {},
   "outputs": [
    {
     "data": {
      "image/png": "[encoded data removed]",
      "text/plain": [
       "<Figure size 640x480 with 1 Axes>"
      ]
     },
     "metadata": {},
     "output_type": "display_data"
    },
    {
     "data": {
      "image/png": "[encoded data removed]",
      "text/plain": [
       "<Figure size 640x480 with 1 Axes>"
      ]
     },
     "metadata": {},
     "output_type": "display_data"
    },
    {
     "data": {
      "image/png": "[encoded data removed]",
      "text/plain": [
       "<Figure size 640x480 with 1 Axes>"
      ]
     },
     "metadata": {},
     "output_type": "display_data"
    },
    {
     "data": {
      "image/png": "[encoded data removed]",
      "text/plain": [
       "<Figure size 640x480 with 1 Axes>"
      ]
     },
     "metadata": {},
     "output_type": "display_data"
    },
    {
     "data": {
      "image/png": "[encoded data removed]",
      "text/plain": [
       "<Figure size 640x480 with 1 Axes>"
      ]
     },
     "metadata": {},
     "output_type": "display_data"
    },
    {
     "data": {
      "image/png": "[encoded data removed]",
      "text/plain": [
       "<Figure size 640x480 with 1 Axes>"
      ]
     },
     "metadata": {},
     "output_type": "display_data"
    },
    {
     "data": {
      "image/png": "[encoded data removed]",
      "text/plain": [
       "<Figure size 640x480 with 1 Axes>"
      ]
     },
     "metadata": {},
     "output_type": "display_data"
    },
    {
     "data": {
      "image/png": "[encoded data removed]",
      "text/plain": [
       "<Figure size 640x480 with 1 Axes>"
      ]
     },
     "metadata": {},
     "output_type": "display_data"
    },
    {
     "data": {
      "image/png": "[encoded data removed]",
      "text/plain": [
       "<Figure size 640x480 with 1 Axes>"
      ]
     },
     "metadata": {},
     "output_type": "display_data"
    },
    {
     "data": {
      "image/png": "[encoded data removed]",
      "text/plain": [
       "<Figure size 640x480 with 1 Axes>"
      ]
     },
     "metadata": {},
     "output_type": "display_data"
    },
    {
     "data": {
      "image/png": "[encoded data removed]",
      "text/plain": [
       "<Figure size 640x480 with 1 Axes>"
      ]
     },
     "metadata": {},
     "output_type": "display_data"
    },
    {
     "data": {
      "image/png": "[encoded data removed]",
      "text/plain": [
       "<Figure size 640x480 with 1 Axes>"
      ]
     },
     "metadata": {},
     "output_type": "display_data"
    },
    {
     "data": {
      "image/png": "[encoded data removed]",
      "text/plain": [
       "<Figure size 640x480 with 1 Axes>"
      ]
     },
     "metadata": {},
     "output_type": "display_data"
    },
    {
     "data": {
      "image/png": "[encoded data removed]",
      "text/plain": [
       "<Figure size 640x480 with 1 Axes>"
      ]
     },
     "metadata": {},
     "output_type": "display_data"
    },
    {
     "data": {
      "image/png": "[encoded data removed]",
      "text/plain": [
       "<Figure size 640x480 with 1 Axes>"
      ]
     },
     "metadata": {},
     "output_type": "display_data"
    },
    {
     "data": {
      "image/png": "[encoded data removed]",
      "text/plain": [
       "<Figure size 640x480 with 1 Axes>"
      ]
     },
     "metadata": {},
     "output_type": "display_data"
    }
   ],
   "source": [
    "# Run this cell to view all color convex hull vertices\n",
    "hull = ConvexHull(rgbs)\n",
    "hull_vertices = hull.points[hull.vertices]\n",
    "split_chunk_indices = np.linspace(0, len(hull_vertices), len(hull_vertices) // 10, dtype=int)\n",
    "split_chunk_indices = split_chunk_indices[1:-1]\n",
    "for hull_vtx_chunk in np.array_split(hull_vertices, split_chunk_indices):\n",
    "    plot_palette_colors(hull_vtx_chunk)"
   ]
  },
  {
   "cell_type": "code",
   "execution_count": 48,
   "metadata": {},
   "outputs": [
    {
     "data": {
      "application/vnd.jupyter.widget-view+json": {
       "model_id": "41634de6eaaf43fca4ff372fcef003b2",
       "version_major": 2,
       "version_minor": 0
      },
      "text/plain": [
       "ColorPicker(value='#000000', description='Pick a color')"
      ]
     },
     "execution_count": 48,
     "metadata": {},
     "output_type": "execute_result"
    }
   ],
   "source": [
    "# Use this color picker if you want to pick a color among the convex hull vertices\n",
    "widgets.ColorPicker(concise=False, description=f'Pick a color', value='#000000', disabled=False)"
   ]
  },
  {
   "cell_type": "code",
   "execution_count": null,
   "metadata": {},
   "outputs": [],
   "source": []
  },
  {
   "cell_type": "code",
   "execution_count": 49,
   "metadata": {},
   "outputs": [
    {
     "name": "stdout",
     "output_type": "stream",
     "text": [
      "Original palette\n",
      "[[1.         0.68398995 0.10408582]\n",
      " [0.         0.         0.        ]\n",
      " [1.         1.         1.        ]\n",
      " [0.05878256 0.44598024 0.26898299]\n",
      " [0.         0.17857286 0.64469497]\n",
      " [0.51045895 0.         0.        ]]\n"
     ]
    },
    {
     "data": {
      "image/png": "[encoded data removed]",
      "text/plain": [
       "<Figure size 640x480 with 1 Axes>"
      ]
     },
     "metadata": {},
     "output_type": "display_data"
    }
   ],
   "source": [
    "print('Original palette')\n",
    "plot_palette_colors(palette)\n",
    "print(palette)\n",
    "palette_sorted = palette\n"
   ]
  },
  {
   "cell_type": "code",
   "execution_count": 37,
   "metadata": {},
   "outputs": [
    {
     "name": "stdout",
     "output_type": "stream",
     "text": [
      "Drag to sort the colors in the palette\n"
     ]
    },
    {
     "data": {
      "application/vnd.jupyter.widget-view+json": {
       "model_id": "70ef188d0a584b118a2440da1650f99c",
       "version_major": 2,
       "version_minor": 0
      },
      "text/plain": [
       "ColorsInput(value=['#ee7361', '#000000', '#ffffff', '#ffff66'])"
      ]
     },
     "execution_count": 37,
     "metadata": {},
     "output_type": "execute_result"
    }
   ],
   "source": [
    "print('Drag to sort the colors in the palette')\n",
    "\n",
    "hex_palette = [rgb2hex(c) for c in palette_sorted]\n",
    "\n",
    "color_tags = widgets.ColorsInput(value=hex_palette)\n",
    "color_tags"
   ]
  },
  {
   "cell_type": "code",
   "execution_count": 12,
   "metadata": {},
   "outputs": [
    {
     "name": "stdout",
     "output_type": "stream",
     "text": [
      "['#a0ff5d', '#ffff82', '#ffffff', '#67ff71', '#396c09', '#f1ffff', '#007525', '#ff8936', '#000000']\n"
     ]
    }
   ],
   "source": [
    "print(hex_palette)"
   ]
  },
  {
   "cell_type": "code",
   "execution_count": 13,
   "metadata": {},
   "outputs": [
    {
     "name": "stdout",
     "output_type": "stream",
     "text": [
      "Sorted palette\n"
     ]
    },
    {
     "data": {
      "image/png": "[encoded data removed]",
      "text/plain": [
       "<Figure size 640x480 with 1 Axes>"
      ]
     },
     "metadata": {},
     "output_type": "display_data"
    }
   ],
   "source": [
    "palette_sorted = np.array([hex2rgb(cl) for cl in color_tags.value]).astype(np.float32) / 255.\n",
    "print('Sorted palette')\n",
    "plot_palette_colors(palette_sorted)"
   ]
  },
  {
   "cell_type": "code",
   "execution_count": 17,
   "metadata": {},
   "outputs": [
    {
     "name": "stdout",
     "output_type": "stream",
     "text": [
      "[[0.39393925 0.59176221 0.1678292 ]\n",
      " [0.         0.         0.        ]\n",
      " [1.         1.         0.36375907]\n",
      " [0.99284167 0.48685597 0.36995905]\n",
      " [1.         1.         1.        ]]\n"
     ]
    }
   ],
   "source": [
    "print(palette_sorted)"
   ]
  },
  {
   "cell_type": "code",
   "execution_count": 50,
   "metadata": {},
   "outputs": [
    {
     "name": "stdout",
     "output_type": "stream",
     "text": [
      "Save palette to ../data_palette/data4_playground/rgb_palette_extract.npy\n"
     ]
    }
   ],
   "source": [
    "save_palette(outdir, palette_sorted)"
   ]
  },
  {
   "cell_type": "code",
   "execution_count": null,
   "metadata": {},
   "outputs": [],
   "source": []
  },
  {
   "cell_type": "markdown",
   "metadata": {},
   "source": [
    "## Visualization\n",
    "\n",
    "This section provides a very simple visualization tool, where you can roughly view the distribution of picked palette colors on input images."
   ]
  },
  {
   "cell_type": "code",
   "execution_count": 16,
   "metadata": {},
   "outputs": [],
   "source": [
    "def sort_palette_w_vis(rgbs, palette_rgb, dataset=None, fg=None, plt_vote_map_idx=0,):\n",
    "    \n",
    "    '''像素颜色属于哪个调色板'''\n",
    "    dist = rearrange(rgbs, 'N C -> N 1 C') - rearrange(palette_rgb, 'P C -> 1 P C')\n",
    "    dist = np.linalg.norm(dist, axis=-1) #2范数  相当于求像素间距离\n",
    "    dist = np.argmin(dist, axis=-1)\n",
    "    \n",
    "    \n",
    "    \n",
    "    if dataset is not None and dataset.white_bg and fg is not None:\n",
    "        all_rgb_cp = dataset.all_rgbs.clone().cpu().numpy()\n",
    "    else:\n",
    "        all_rgb_cp = rgbs.copy()\n",
    "    all_rgb_maps = all_rgb_cp.reshape(-1, h, w, 3)\n",
    "\n",
    "    # Show palette voting of pixels \n",
    "    palette_vote = palette_rgb[dist]\n",
    "    if fg is not None:\n",
    "        palette_vote_maps = all_rgb_cp.copy()\n",
    "        palette_vote_maps[fg] = palette_vote\n",
    "    else:\n",
    "        palette_vote_maps = palette_vote\n",
    "    palette_vote_maps = palette_vote_maps.reshape(-1, h, w, 3)\n",
    "    print(palette_vote_maps.shape)\n",
    "    \n",
    "    fig, axes = plt.subplots(1, 2)\n",
    "    axes[0].imshow(all_rgb_maps[plt_vote_map_idx])\n",
    "    axes[1].imshow(palette_vote_maps[plt_vote_map_idx])\n",
    "    \n",
    "    \n",
    "    \n",
    "    dist = np.bincount(dist)\n",
    "    \n",
    "    \n",
    "    \n",
    "    # Show palette distribution\n",
    "    plt.figure()\n",
    "    plt.bar(np.arange(0, len(palette_rgb)), dist, color=palette_rgb, edgecolor='black')\n",
    "    \n",
    "    \n",
    "    \n",
    "    dist = np.argsort(dist)\n",
    "\n",
    "    # bg = np.ones(3) if dataset.white_bg else np.zeros(3)\n",
    "    # palette_rgb = [tuple(a.tolist()) for a in palette_rgb[dist.cpu().numpy()] if not np.allclose(a, bg)]\n",
    "    # palette_rgb.append(tuple(bg.tolist()))\n",
    "    palette_rgb = [tuple(a) for a in palette_rgb[dist].tolist()]\n",
    "    return np.array(palette_rgb)\n"
   ]
  },
  {
   "cell_type": "code",
   "execution_count": 17,
   "metadata": {},
   "outputs": [],
   "source": [
    "from utils.color_decomposition import color_decomposition\n",
    "def plot_color_decomposition(rgbs,palette_rgb,plot_palette_color_idx=1,dataset=None,fg=None):\n",
    "    rgbs = torch.tensor(rgbs)\n",
    "    palette_rgb = torch.tensor(palette_rgb)\n",
    "    palette_number = palette_rgb.shape[0]\n",
    "    color_deco = color_decomposition(rgbs,palette_rgb) # bs * h * w\n",
    "    if dataset is not None and dataset.white_bg and fg is not None:\n",
    "        all_rgb_cp = dataset.all_rgbs.clone().cpu()\n",
    "        all_rgb_cp_original = dataset.all_rgbs.clone().cpu()\n",
    "    else:\n",
    "        all_rgb_cp = torch.clone(rgbs)\n",
    "        all_rgb_cp_original = torch.clone(rgbs)\n",
    "        \n",
    "    true_idx = (color_deco != plot_palette_color_idx) # bs * 1\n",
    "    fg[fg==True] = true_idx\n",
    "    \n",
    "    all_rgb_cp[fg] = 1.\n",
    "    \n",
    "    all_rgb_maps = torch.reshape(all_rgb_cp,(-1, h, w, 3))\n",
    "    all_rgb_cp_original = torch.reshape(all_rgb_cp_original,(-1,h,w,3))\n",
    "    \n",
    "    \n",
    "    \n",
    "    \n",
    "    fig,axes = plt.subplots(1,2)\n",
    "    axes[0].imshow(all_rgb_maps[plot_palette_color_idx].clone().numpy())\n",
    "    axes[1].imshow(all_rgb_cp_original[plot_palette_color_idx].clone().numpy())"
   ]
  },
  {
   "cell_type": "code",
   "execution_count": 18,
   "metadata": {},
   "outputs": [
    {
     "data": {
      "image/png": "[encoded data removed]",
      "text/plain": [
       "<Figure size 640x480 with 2 Axes>"
      ]
     },
     "metadata": {},
     "output_type": "display_data"
    }
   ],
   "source": [
    "plot_color_decomposition(rgbs,palette_sorted,dataset=dataset,fg=fg)"
   ]
  },
  {
   "cell_type": "code",
   "execution_count": 19,
   "metadata": {},
   "outputs": [
    {
     "data": {
      "application/vnd.jupyter.widget-view+json": {
       "model_id": "be3e69fa40934a4f8c3b98b0e6f7cb8f",
       "version_major": 2,
       "version_minor": 0
      },
      "text/plain": [
       "ColorPicker(value='#000000', description='Pick a color')"
      ]
     },
     "execution_count": 19,
     "metadata": {},
     "output_type": "execute_result"
    }
   ],
   "source": [
    "widgets.ColorPicker(concise=False, description=f'Pick a color', value='#000000', disabled=False)"
   ]
  },
  {
   "cell_type": "code",
   "execution_count": 20,
   "metadata": {},
   "outputs": [
    {
     "ename": "ValueError",
     "evalue": "shape mismatch: value array of shape (13003178,3) could not be broadcast to indexing result of shape (9869416,3)",
     "output_type": "error",
     "traceback": [
      "\u001b[0;31m---------------------------------------------------------------------------\u001b[0m",
      "\u001b[0;31mValueError\u001b[0m                                Traceback (most recent call last)",
      "Cell \u001b[0;32mIn[20], line 3\u001b[0m\n\u001b[1;32m      1\u001b[0m \u001b[38;5;66;03m# Run this cell to visualize 1-nn color distribution\u001b[39;00m\n\u001b[0;32m----> 3\u001b[0m palette_sorted_ \u001b[38;5;241m=\u001b[39m \u001b[43msort_palette_w_vis\u001b[49m\u001b[43m(\u001b[49m\u001b[43mrgbs\u001b[49m\u001b[43m,\u001b[49m\u001b[43m \u001b[49m\u001b[43mpalette_sorted\u001b[49m\u001b[43m,\u001b[49m\u001b[43m \u001b[49m\u001b[43mdataset\u001b[49m\u001b[38;5;241;43m=\u001b[39;49m\u001b[43mdataset\u001b[49m\u001b[43m,\u001b[49m\u001b[43m \u001b[49m\u001b[43mfg\u001b[49m\u001b[38;5;241;43m=\u001b[39;49m\u001b[43mfg\u001b[49m\u001b[43m,\u001b[49m\u001b[43m \u001b[49m\u001b[43mplt_vote_map_idx\u001b[49m\u001b[38;5;241;43m=\u001b[39;49m\u001b[38;5;241;43m1\u001b[39;49m\u001b[43m)\u001b[49m\n\u001b[1;32m      4\u001b[0m plot_palette_colors(palette_sorted_)\n",
      "Cell \u001b[0;32mIn[16], line 20\u001b[0m, in \u001b[0;36msort_palette_w_vis\u001b[0;34m(rgbs, palette_rgb, dataset, fg, plt_vote_map_idx)\u001b[0m\n\u001b[1;32m     18\u001b[0m \u001b[38;5;28;01mif\u001b[39;00m fg \u001b[38;5;129;01mis\u001b[39;00m \u001b[38;5;129;01mnot\u001b[39;00m \u001b[38;5;28;01mNone\u001b[39;00m:\n\u001b[1;32m     19\u001b[0m     palette_vote_maps \u001b[38;5;241m=\u001b[39m all_rgb_cp\u001b[38;5;241m.\u001b[39mcopy()\n\u001b[0;32m---> 20\u001b[0m     \u001b[43mpalette_vote_maps\u001b[49m\u001b[43m[\u001b[49m\u001b[43mfg\u001b[49m\u001b[43m]\u001b[49m \u001b[38;5;241m=\u001b[39m palette_vote\n\u001b[1;32m     21\u001b[0m \u001b[38;5;28;01melse\u001b[39;00m:\n\u001b[1;32m     22\u001b[0m     palette_vote_maps \u001b[38;5;241m=\u001b[39m palette_vote\n",
      "\u001b[0;31mValueError\u001b[0m: shape mismatch: value array of shape (13003178,3) could not be broadcast to indexing result of shape (9869416,3)"
     ]
    }
   ],
   "source": [
    "# Run this cell to visualize 1-nn color distribution\n",
    "\n",
    "palette_sorted_ = sort_palette_w_vis(rgbs, palette_sorted, dataset=dataset, fg=fg, plt_vote_map_idx=1)\n",
    "plot_palette_colors(palette_sorted_)"
   ]
  },
  {
   "cell_type": "code",
   "execution_count": null,
   "metadata": {},
   "outputs": [],
   "source": []
  },
  {
   "cell_type": "code",
   "execution_count": null,
   "metadata": {},
   "outputs": [],
   "source": []
  }
 ],
 "metadata": {
  "kernelspec": {
   "display_name": "recolornerf",
   "language": "python",
   "name": "recolornerf"
  },
  "language_info": {
   "codemirror_mode": {
    "name": "ipython",
    "version": 3
   },
   "file_extension": ".py",
   "mimetype": "text/x-python",
   "name": "python",
   "nbconvert_exporter": "python",
   "pygments_lexer": "ipython3",
   "version": "3.8.16"
  },
  "vscode": {
   "interpreter": {
    "hash": "3e9fbb684c6692f9adab6114b782038a5025000b5f4b58eb9d35859579031213"
   }
  }
 },
 "nbformat": 4,
 "nbformat_minor": 4
}
